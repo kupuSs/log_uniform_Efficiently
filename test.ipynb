{
 "cells": [
  {
   "cell_type": "code",
   "execution_count": 1,
   "metadata": {},
   "outputs": [],
   "source": [
    "import random\n",
    "import time\n",
    "import pandas as pd\n",
    "from collections import Counter\n",
    "\n",
    "import log_uniform"
   ]
  },
  {
   "cell_type": "code",
   "execution_count": 2,
   "metadata": {},
   "outputs": [],
   "source": [
    "fruits_dict = {  # 模拟水果的售卖数量\n",
    "    'apple': 16,\n",
    "    'banana': 70,\n",
    "    'watermelon': 29,\n",
    "    'mango': 10,\n",
    "    'peach': 40,\n",
    "    'orange': 1020,\n",
    "    'pear': 5,\n",
    "    'strawberry': 2030,\n",
    "    'olive': 24,\n",
    "    'lemon': 9990\n",
    "}\n",
    "\n",
    "SAMPLING_NUMS = 1000000"
   ]
  },
  {
   "cell_type": "code",
   "execution_count": 3,
   "metadata": {},
   "outputs": [
    {
     "name": "stdout",
     "output_type": "stream",
     "text": [
      "log uniform sampling 1000000 cost time: 2.7911570072174072 sec\n",
      "random sampling 1000000 cost time: 3.270305871963501 sec\n"
     ]
    }
   ],
   "source": [
    "if __name__ == '__main__':\n",
    "    # log_uniform\n",
    "    lu = log_uniform.LogUniform(popular_dict=fruits_dict)\n",
    "    lu.get_item_score()  # 给每个item打分\n",
    "    lu.get_item_rank()  # 按分数从高到低获得每个item的排名\n",
    "    lu.get_log_uniform()  # 获得log_uniform概率\n",
    "    item_prob_dist_list, item_prob_dist_dict = lu.get_probability_distributions()  # 获取log_uniform概率分布\n",
    "\n",
    "    start = time.time()\n",
    "    fruits_log_uniform_list = []\n",
    "    for _ in range(SAMPLING_NUMS):\n",
    "        key = random.random()  # 先通过均匀分布产生一个[0,1]内的概率\n",
    "        key_interval = lu.find_interval(key=key, arrays=item_prob_dist_list)  # 查找key所在的概率分布区间\n",
    "        neg_item = item_prob_dist_dict[str(key_interval)]  # 该区间即为对应的negative item\n",
    "        fruits_log_uniform_list.append(neg_item)\n",
    "    print('log uniform sampling {} cost time: {} sec'.format(SAMPLING_NUMS, time.time() - start))\n",
    "\n",
    "    fruits_log_uniform_ranked = sorted(Counter(fruits_log_uniform_list).items(), key=lambda d: d[1], reverse=True)\n",
    "\n",
    "    # random\n",
    "    fruits_list = []\n",
    "    for k, v in fruits_dict.items():\n",
    "        fruits_list.extend([k] * v)\n",
    "    random.shuffle(fruits_list)\n",
    "\n",
    "    start = time.time()\n",
    "    fruits_random_list = []\n",
    "    for _ in range(SAMPLING_NUMS):\n",
    "        neg_item = random.sample(fruits_list, 1)[0]\n",
    "        fruits_random_list.append(neg_item)\n",
    "    print('random sampling {} cost time: {} sec'.format(SAMPLING_NUMS, time.time() - start))\n",
    "\n",
    "    fruits_random_ranked = sorted(Counter(fruits_random_list).items(), key=lambda d: d[1], reverse=True)\n",
    "\n",
    "    df = pd.DataFrame(\n",
    "        index=[fruits_random_ranked[i][0] for i in range(len(fruits_dict))],\n",
    "        columns=['random', 'log uniform'])\n",
    "\n",
    "    df['random'] = [fruits_random_ranked[i][1]/SAMPLING_NUMS for i in range(len(fruits_dict))]\n",
    "    df['log uniform'] = [fruits_log_uniform_ranked[i][1]/SAMPLING_NUMS for i in range(len(fruits_dict))]"
   ]
  },
  {
   "cell_type": "code",
   "execution_count": 4,
   "metadata": {},
   "outputs": [
    {
     "data": {
      "text/html": [
       "<div>\n",
       "<style scoped>\n",
       "    .dataframe tbody tr th:only-of-type {\n",
       "        vertical-align: middle;\n",
       "    }\n",
       "\n",
       "    .dataframe tbody tr th {\n",
       "        vertical-align: top;\n",
       "    }\n",
       "\n",
       "    .dataframe thead th {\n",
       "        text-align: right;\n",
       "    }\n",
       "</style>\n",
       "<table border=\"1\" class=\"dataframe\">\n",
       "  <thead>\n",
       "    <tr style=\"text-align: right;\">\n",
       "      <th></th>\n",
       "      <th>random</th>\n",
       "      <th>log uniform</th>\n",
       "    </tr>\n",
       "  </thead>\n",
       "  <tbody>\n",
       "    <tr>\n",
       "      <th>lemon</th>\n",
       "      <td>0.754581</td>\n",
       "      <td>0.288986</td>\n",
       "    </tr>\n",
       "    <tr>\n",
       "      <th>strawberry</th>\n",
       "      <td>0.153290</td>\n",
       "      <td>0.169073</td>\n",
       "    </tr>\n",
       "    <tr>\n",
       "      <th>orange</th>\n",
       "      <td>0.077304</td>\n",
       "      <td>0.119399</td>\n",
       "    </tr>\n",
       "    <tr>\n",
       "      <th>banana</th>\n",
       "      <td>0.005422</td>\n",
       "      <td>0.092602</td>\n",
       "    </tr>\n",
       "    <tr>\n",
       "      <th>peach</th>\n",
       "      <td>0.002997</td>\n",
       "      <td>0.076449</td>\n",
       "    </tr>\n",
       "    <tr>\n",
       "      <th>watermelon</th>\n",
       "      <td>0.002247</td>\n",
       "      <td>0.064788</td>\n",
       "    </tr>\n",
       "    <tr>\n",
       "      <th>olive</th>\n",
       "      <td>0.001798</td>\n",
       "      <td>0.055569</td>\n",
       "    </tr>\n",
       "    <tr>\n",
       "      <th>apple</th>\n",
       "      <td>0.001213</td>\n",
       "      <td>0.049145</td>\n",
       "    </tr>\n",
       "    <tr>\n",
       "      <th>mango</th>\n",
       "      <td>0.000757</td>\n",
       "      <td>0.044355</td>\n",
       "    </tr>\n",
       "    <tr>\n",
       "      <th>pear</th>\n",
       "      <td>0.000391</td>\n",
       "      <td>0.039634</td>\n",
       "    </tr>\n",
       "  </tbody>\n",
       "</table>\n",
       "</div>"
      ],
      "text/plain": [
       "              random  log uniform\n",
       "lemon       0.754581     0.288986\n",
       "strawberry  0.153290     0.169073\n",
       "orange      0.077304     0.119399\n",
       "banana      0.005422     0.092602\n",
       "peach       0.002997     0.076449\n",
       "watermelon  0.002247     0.064788\n",
       "olive       0.001798     0.055569\n",
       "apple       0.001213     0.049145\n",
       "mango       0.000757     0.044355\n",
       "pear        0.000391     0.039634"
      ]
     },
     "execution_count": 4,
     "metadata": {},
     "output_type": "execute_result"
    }
   ],
   "source": [
    "df"
   ]
  },
  {
   "cell_type": "code",
   "execution_count": null,
   "metadata": {},
   "outputs": [],
   "source": []
  }
 ],
 "metadata": {
  "kernelspec": {
   "display_name": "Python 3",
   "language": "python",
   "name": "python3"
  },
  "language_info": {
   "codemirror_mode": {
    "name": "ipython",
    "version": 3
   },
   "file_extension": ".py",
   "mimetype": "text/x-python",
   "name": "python",
   "nbconvert_exporter": "python",
   "pygments_lexer": "ipython3",
   "version": "3.6.5"
  }
 },
 "nbformat": 4,
 "nbformat_minor": 2
}
